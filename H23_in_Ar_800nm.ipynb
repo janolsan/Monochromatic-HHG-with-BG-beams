{
 "cells": [
  {
   "cell_type": "markdown",
   "id": "f1ffde73-05dc-4b3e-b102-b7a9af82eb2b",
   "metadata": {},
   "source": [
    "## This is an attempt to reconstruct Fig. 4 from the article O. Finke et. al. Monochromatic high-order harmonic generation by a Bessel-Gauss beam in periodically modulated media"
   ]
  },
  {
   "cell_type": "code",
   "execution_count": 1,
   "id": "5bd3095c-30f8-455f-8509-2ac59b029a11",
   "metadata": {},
   "outputs": [
    {
     "name": "stdout",
     "output_type": "stream",
     "text": [
      "['Ar_Henke', 'Ar_NIST', 'He_Henke', 'He_NIST', 'Kr_Henke', 'Kr_NIST', 'Ne_Henke', 'Ne_NIST', 'Xe_Henke', 'Xe_NIST']\n"
     ]
    }
   ],
   "source": [
    "# general imports\n",
    "import copy\n",
    "import numpy as np\n",
    "import scipy as sp\n",
    "import matplotlib.pyplot as plt\n",
    "from IPython.display import display, Latex\n",
    "# imports for analytical\n",
    "import XUV_refractive_index as XUV_index\n",
    "import XUV_signal_computation2 as XUV_sig\n",
    "import mynumerics as mn\n",
    "import harmonic_signal as hs"
   ]
  },
  {
   "cell_type": "markdown",
   "id": "70d54c41-6be9-4b7c-8d6b-52097d96b410",
   "metadata": {},
   "source": [
    "## The goal is to optimize the 23rd harmonic in Ar generated with 800 nm laser"
   ]
  },
  {
   "cell_type": "code",
   "execution_count": 2,
   "id": "c2d4ce7a-7fb5-4567-9378-4dfe842a3677",
   "metadata": {},
   "outputs": [],
   "source": [
    "# initial parameters\n",
    "gas_type = 'Ar'\n",
    "XUV_table_type_absorption = 'Henke' # {Henke, NIST}    \n",
    "XUV_table_type_dispersion = 'Henke'\n",
    "wavelength = 800e-9 #m\n",
    "H_opt = 23\n",
    "\n",
    "# laser  \n",
    "omegaSI = mn.ConvertPhoton(wavelength, 'lambdaSI', 'omegaSI') \n",
    "pressure = 100e-3 # what units?\n",
    "\n",
    "\n",
    "parameters = {'XUV_table_type_dispersion': XUV_table_type_dispersion,\n",
    "              'XUV_table_type_absorption': XUV_table_type_absorption,\n",
    "              'gas_type': gas_type,\n",
    "              'omegaSI': omegaSI,\n",
    "              'Aq' : 1.0}"
   ]
  },
  {
   "cell_type": "code",
   "execution_count": null,
   "id": "dbfd53f1-14f5-4083-9a27-f75c2aeaea98",
   "metadata": {},
   "outputs": [],
   "source": []
  }
 ],
 "metadata": {
  "kernelspec": {
   "display_name": "Python 3 (ipykernel)",
   "language": "python",
   "name": "python3"
  },
  "language_info": {
   "codemirror_mode": {
    "name": "ipython",
    "version": 3
   },
   "file_extension": ".py",
   "mimetype": "text/x-python",
   "name": "python",
   "nbconvert_exporter": "python",
   "pygments_lexer": "ipython3",
   "version": "3.11.2"
  }
 },
 "nbformat": 4,
 "nbformat_minor": 5
}
